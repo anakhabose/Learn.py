{
  "nbformat": 4,
  "nbformat_minor": 0,
  "metadata": {
    "colab": {
      "name": "TASK 13.ipynb",
      "provenance": [],
      "include_colab_link": true
    },
    "kernelspec": {
      "name": "python3",
      "display_name": "Python 3"
    },
    "language_info": {
      "name": "python"
    }
  },
  "cells": [
    {
      "cell_type": "markdown",
      "metadata": {
        "id": "view-in-github",
        "colab_type": "text"
      },
      "source": [
        "<a href=\"https://colab.research.google.com/github/anakhabose/Learn.py/blob/main/TASK_13.ipynb\" target=\"_parent\"><img src=\"https://colab.research.google.com/assets/colab-badge.svg\" alt=\"Open In Colab\"/></a>"
      ]
    },
    {
      "cell_type": "markdown",
      "metadata": {
        "id": "RUSoRkrOqNwf"
      },
      "source": [
        "1. Create a 3x3 array values ranging from 0-8.Find the sum of the elements in this array."
      ]
    },
    {
      "cell_type": "code",
      "metadata": {
        "id": "t01ATYQpqq8u",
        "outputId": "80a54390-a63a-4e0a-c0c6-c1531980aa7d",
        "colab": {
          "base_uri": "https://localhost:8080/"
        }
      },
      "source": [
        "#please enter your code below this line.\n",
        "import numpy as np\n",
        "A= np.arange(9).reshape(3,3)\n",
        "print(A)"
      ],
      "execution_count": 56,
      "outputs": [
        {
          "output_type": "stream",
          "name": "stdout",
          "text": [
            "[[0 1 2]\n",
            " [3 4 5]\n",
            " [6 7 8]]\n"
          ]
        }
      ]
    },
    {
      "cell_type": "code",
      "metadata": {
        "id": "Ij5KPhPCIP0E",
        "outputId": "2d2519bc-ff7d-44bb-d814-641acdc98681",
        "colab": {
          "base_uri": "https://localhost:8080/"
        }
      },
      "source": [
        "#sum\n",
        "x= A.sum()\n",
        "print(x)"
      ],
      "execution_count": 57,
      "outputs": [
        {
          "output_type": "stream",
          "name": "stdout",
          "text": [
            "36\n"
          ]
        }
      ]
    },
    {
      "cell_type": "markdown",
      "metadata": {
        "id": "k3Y7nQF7r3IW"
      },
      "source": [
        "2. Create a 3x3 array values ranging from 0-8.Find the row sum and column sum of this array."
      ]
    },
    {
      "cell_type": "code",
      "metadata": {
        "id": "BzvIlWfvsICv",
        "outputId": "aa3936f9-cf9f-4cfa-e2b7-4eccbae11b95",
        "colab": {
          "base_uri": "https://localhost:8080/"
        }
      },
      "source": [
        "#please enter your code below this line.\n",
        "import numpy as np\n",
        "B= np.arange(9).reshape(3,3)\n",
        "print(B)"
      ],
      "execution_count": 58,
      "outputs": [
        {
          "output_type": "stream",
          "name": "stdout",
          "text": [
            "[[0 1 2]\n",
            " [3 4 5]\n",
            " [6 7 8]]\n"
          ]
        }
      ]
    },
    {
      "cell_type": "code",
      "metadata": {
        "id": "T9gEWVjRIzZt",
        "outputId": "aa434a35-de5d-46a6-a022-8718e452a782",
        "colab": {
          "base_uri": "https://localhost:8080/"
        }
      },
      "source": [
        "y=A.sum(axis=1)\n",
        "print('rows sum:',y)\n",
        "z= A.sum(axis=0)\n",
        "print('column sum:',z)"
      ],
      "execution_count": 60,
      "outputs": [
        {
          "output_type": "stream",
          "name": "stdout",
          "text": [
            "rows sum: [ 3 12 21]\n",
            "column sum: [ 9 12 15]\n"
          ]
        }
      ]
    },
    {
      "cell_type": "markdown",
      "metadata": {
        "id": "KOPMsbnrsgue"
      },
      "source": [
        "3. Create a 4x4 array values ranging from 0-15. Now,\n",
        "\n",
        "    a) Find the mininmum value in the array.\n",
        "    \n",
        "    b) Find the maximum value in the array.\n",
        "\n",
        "    c) Find the mean of the values in the array."
      ]
    },
    {
      "cell_type": "code",
      "metadata": {
        "id": "1UzITxp3WDaW",
        "outputId": "60dd7a65-30b8-4aaa-a848-435e0f0fd063",
        "colab": {
          "base_uri": "https://localhost:8080/"
        }
      },
      "source": [
        "#please enter your code belowthis line.\n",
        "import numpy as np\n",
        "C= np.arange(16).reshape(4,4)\n",
        "print(C)"
      ],
      "execution_count": 61,
      "outputs": [
        {
          "output_type": "stream",
          "name": "stdout",
          "text": [
            "[[ 0  1  2  3]\n",
            " [ 4  5  6  7]\n",
            " [ 8  9 10 11]\n",
            " [12 13 14 15]]\n"
          ]
        }
      ]
    },
    {
      "cell_type": "code",
      "metadata": {
        "id": "i5qXeVyvJx1j",
        "outputId": "db3dcc79-e585-4c1b-b831-744704570cce",
        "colab": {
          "base_uri": "https://localhost:8080/"
        }
      },
      "source": [
        "u= C.min()\n",
        "print('Minimum=',u)\n",
        "v= C.max()\n",
        "print('Maximum=',v)\n",
        "w= C.mean()\n",
        "print('Mean=',w)"
      ],
      "execution_count": 62,
      "outputs": [
        {
          "output_type": "stream",
          "name": "stdout",
          "text": [
            "Minimum= 0\n",
            "Maximum= 15\n",
            "Mean= 7.5\n"
          ]
        }
      ]
    },
    {
      "cell_type": "markdown",
      "metadata": {
        "id": "Pah9qGButoz2"
      },
      "source": [
        "4. Create an 10x10 array values ranging from 0-99.And ,\n",
        "\n",
        "    a) Print the 7th row.\n",
        "    \n",
        "    b) Print the rows from 4-8.\n",
        "\n",
        "    c) Print the value at the index 5,5.\n",
        "\n",
        "    d) Print the 5th colomn.\n",
        "\n",
        "    e) Print the columns from 2-5."
      ]
    },
    {
      "cell_type": "code",
      "metadata": {
        "id": "JFXPq0GkvhKi",
        "outputId": "92e7316a-fdfa-4779-8dd5-1587c6b8ff3e",
        "colab": {
          "base_uri": "https://localhost:8080/"
        }
      },
      "source": [
        "#please enter your code below this line.\n",
        "D= np.arange(100).reshape(10,10)\n",
        "print(D)"
      ],
      "execution_count": 63,
      "outputs": [
        {
          "output_type": "stream",
          "name": "stdout",
          "text": [
            "[[ 0  1  2  3  4  5  6  7  8  9]\n",
            " [10 11 12 13 14 15 16 17 18 19]\n",
            " [20 21 22 23 24 25 26 27 28 29]\n",
            " [30 31 32 33 34 35 36 37 38 39]\n",
            " [40 41 42 43 44 45 46 47 48 49]\n",
            " [50 51 52 53 54 55 56 57 58 59]\n",
            " [60 61 62 63 64 65 66 67 68 69]\n",
            " [70 71 72 73 74 75 76 77 78 79]\n",
            " [80 81 82 83 84 85 86 87 88 89]\n",
            " [90 91 92 93 94 95 96 97 98 99]]\n"
          ]
        }
      ]
    },
    {
      "cell_type": "code",
      "metadata": {
        "id": "htVIMYCZLDu5",
        "outputId": "310fbbe4-60cc-4efd-ceb2-0a9d2ec1705f",
        "colab": {
          "base_uri": "https://localhost:8080/"
        }
      },
      "source": [
        "p= D[6,:]\n",
        "print('7th row:',p)\n",
        " \n",
        "q= D[3,:],D[4,:],D[5,:],D[6,:],D[7,:]\n",
        "print('Rows from 4-8',q)\n",
        " \n",
        "r= D[4,4]\n",
        "print('Index 5,5:',r)\n",
        " \n",
        "s= D[:, 4]\n",
        "print('5th column',s)\n",
        " \n",
        "t=D[:,1],D[:,2],D[:,3],D[:,4]\n",
        "print('columns from 2-5:',t)"
      ],
      "execution_count": 68,
      "outputs": [
        {
          "output_type": "stream",
          "name": "stdout",
          "text": [
            "7th row: [60 61 62 63 64 65 66 67 68 69]\n",
            "Rows from 4-8 (array([30, 31, 32, 33, 34, 35, 36, 37, 38, 39]), array([40, 41, 42, 43, 44, 45, 46, 47, 48, 49]), array([50, 51, 52, 53, 54, 55, 56, 57, 58, 59]), array([60, 61, 62, 63, 64, 65, 66, 67, 68, 69]), array([70, 71, 72, 73, 74, 75, 76, 77, 78, 79]))\n",
            "Index 5,5: 44\n",
            "5th column [ 4 14 24 34 44 54 64 74 84 94]\n",
            "columns from 2-5: (array([ 1, 11, 21, 31, 41, 51, 61, 71, 81, 91]), array([ 2, 12, 22, 32, 42, 52, 62, 72, 82, 92]), array([ 3, 13, 23, 33, 43, 53, 63, 73, 83, 93]), array([ 4, 14, 24, 34, 44, 54, 64, 74, 84, 94]))\n"
          ]
        }
      ]
    }
  ]
}