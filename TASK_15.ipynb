{
  "nbformat": 4,
  "nbformat_minor": 0,
  "metadata": {
    "colab": {
      "name": "TASK 15.ipynb",
      "provenance": [],
      "include_colab_link": true
    },
    "kernelspec": {
      "name": "python3",
      "display_name": "Python 3"
    },
    "language_info": {
      "name": "python"
    }
  },
  "cells": [
    {
      "cell_type": "markdown",
      "metadata": {
        "id": "view-in-github",
        "colab_type": "text"
      },
      "source": [
        "<a href=\"https://colab.research.google.com/github/anakhabose/Learn.py/blob/main/TASK_15.ipynb\" target=\"_parent\"><img src=\"https://colab.research.google.com/assets/colab-badge.svg\" alt=\"Open In Colab\"/></a>"
      ]
    },
    {
      "cell_type": "markdown",
      "metadata": {
        "id": "mmfmNpvywy0n"
      },
      "source": [
        "1. For the given ndarray b below, evaluate whether elements in array, b are equal to 'red'.Assign the result to b_bool and print the resultant boolean array.\n",
        "b = np.array([\"blue\", \"blue\", \"red\", \"blue\"])"
      ]
    },
    {
      "cell_type": "code",
      "metadata": {
        "id": "KyVrfhasw7SW",
        "outputId": "2789d18c-3add-4ccd-c673-569dd4be82f7",
        "colab": {
          "base_uri": "https://localhost:8080/"
        }
      },
      "source": [
        "#please type your answer below this line.\n",
        "import numpy as np\n",
        "b= np.array([\"blue\",\"blue\",\"red\",\"blue\"])\n",
        "print(b)\n",
        " \n",
        "bool_b= b==\"red\"\n",
        "print(bool_b)"
      ],
      "execution_count": 7,
      "outputs": [
        {
          "output_type": "stream",
          "name": "stdout",
          "text": [
            "['blue' 'blue' 'red' 'blue']\n",
            "[False False  True False]\n"
          ]
        }
      ]
    },
    {
      "cell_type": "markdown",
      "metadata": {
        "id": "1IEqtJSDzx3p"
      },
      "source": [
        "2. Create two arrays on containing elements from 0-5 and another containing elements from 6-10. Then append this array."
      ]
    },
    {
      "cell_type": "code",
      "metadata": {
        "id": "7PXETiqF0Jeo",
        "outputId": "c1f0081b-2488-4a61-e151-aa3fcd441a28",
        "colab": {
          "base_uri": "https://localhost:8080/"
        }
      },
      "source": [
        "#please type your answer below this line.\n",
        "import numpy as np\n",
        "x= np.arange(6)\n",
        "y= np.arange(6,11)\n",
        "print(x)\n",
        "print(y)\n",
        "print(np.append(x,y))"
      ],
      "execution_count": 11,
      "outputs": [
        {
          "output_type": "stream",
          "name": "stdout",
          "text": [
            "[0 1 2 3 4 5]\n",
            "[ 6  7  8  9 10]\n",
            "[ 0  1  2  3  4  5  6  7  8  9 10]\n"
          ]
        }
      ]
    },
    {
      "cell_type": "markdown",
      "metadata": {
        "id": "6JqR9EeB0P6K"
      },
      "source": [
        "3. Create a 2x4 array containing values from 0-7 and another 2x4 containing values from 8-15. Now append this with,\n",
        "\n",
        "  a) axis as 0\n",
        "\n",
        "  b) axis as 1"
      ]
    },
    {
      "cell_type": "code",
      "metadata": {
        "id": "AVhGyXzr1Pd8",
        "outputId": "04d98001-592b-466c-f5ed-2badb8384c5d",
        "colab": {
          "base_uri": "https://localhost:8080/"
        }
      },
      "source": [
        "#please type your answer below this line.\n",
        "import numpy as np\n",
        "u= np.arange(8).reshape(2,4)\n",
        "v= np.arange(8,16).reshape(2,4)\n",
        "print(u)\n",
        "print(v)"
      ],
      "execution_count": 12,
      "outputs": [
        {
          "output_type": "stream",
          "name": "stdout",
          "text": [
            "[[0 1 2 3]\n",
            " [4 5 6 7]]\n",
            "[[ 8  9 10 11]\n",
            " [12 13 14 15]]\n"
          ]
        }
      ]
    },
    {
      "cell_type": "code",
      "metadata": {
        "id": "nhEP-U4CtIA1",
        "outputId": "7f1cf217-7ee6-4371-8c39-de68e1a3ab9f",
        "colab": {
          "base_uri": "https://localhost:8080/"
        }
      },
      "source": [
        "print('a)',np.append(u,v,axis=0))\n",
        "print('b)',np.append(u,v,axis=1))"
      ],
      "execution_count": 21,
      "outputs": [
        {
          "output_type": "stream",
          "name": "stdout",
          "text": [
            "a) [[ 0  1  2  3]\n",
            " [ 4  5  6  7]\n",
            " [ 8  9 10 11]\n",
            " [12 13 14 15]]\n",
            "b) [[ 0  1  2  3  8  9 10 11]\n",
            " [ 4  5  6  7 12 13 14 15]]\n"
          ]
        }
      ]
    }
  ]
}