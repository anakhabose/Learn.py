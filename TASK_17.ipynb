{
  "nbformat": 4,
  "nbformat_minor": 0,
  "metadata": {
    "colab": {
      "name": "TASK 17.ipynb",
      "provenance": [],
      "include_colab_link": true
    },
    "kernelspec": {
      "name": "python3",
      "display_name": "Python 3"
    },
    "language_info": {
      "name": "python"
    }
  },
  "cells": [
    {
      "cell_type": "markdown",
      "metadata": {
        "id": "view-in-github",
        "colab_type": "text"
      },
      "source": [
        "<a href=\"https://colab.research.google.com/github/anakhabose/Learn.py/blob/main/TASK_17.ipynb\" target=\"_parent\"><img src=\"https://colab.research.google.com/assets/colab-badge.svg\" alt=\"Open In Colab\"/></a>"
      ]
    },
    {
      "cell_type": "markdown",
      "metadata": {
        "id": "0SLapvpoaeYY"
      },
      "source": [
        "1. Create a DataFrame by passing a random numpy array,with a datetie index and labelled columns.and display its,\n",
        "     - Head\n",
        "     - Tail\n",
        "     - Index \n",
        "     - Columns\n",
        "     - Values\n",
        "     - statistics\n"
      ]
    },
    {
      "cell_type": "code",
      "metadata": {
        "id": "zJDkjyVxa5yU",
        "outputId": "5979e5cc-5081-4716-8782-15dcf4d61265",
        "colab": {
          "base_uri": "https://localhost:8080/",
          "height": 234
        }
      },
      "source": [
        "#please type your answer below this line.\n",
        "import pandas as pd \n",
        "import numpy as np\n",
        "dates = pd.date_range('20210101',periods=6)\n",
        "df = pd.DataFrame(np.random.randn(6,4), index=dates,columns=list('ABCD'))\n",
        "df"
      ],
      "execution_count": 80,
      "outputs": [
        {
          "output_type": "execute_result",
          "data": {
            "text/html": [
              "<div>\n",
              "<style scoped>\n",
              "    .dataframe tbody tr th:only-of-type {\n",
              "        vertical-align: middle;\n",
              "    }\n",
              "\n",
              "    .dataframe tbody tr th {\n",
              "        vertical-align: top;\n",
              "    }\n",
              "\n",
              "    .dataframe thead th {\n",
              "        text-align: right;\n",
              "    }\n",
              "</style>\n",
              "<table border=\"1\" class=\"dataframe\">\n",
              "  <thead>\n",
              "    <tr style=\"text-align: right;\">\n",
              "      <th></th>\n",
              "      <th>A</th>\n",
              "      <th>B</th>\n",
              "      <th>C</th>\n",
              "      <th>D</th>\n",
              "    </tr>\n",
              "  </thead>\n",
              "  <tbody>\n",
              "    <tr>\n",
              "      <th>2021-01-01</th>\n",
              "      <td>-0.643166</td>\n",
              "      <td>-1.118514</td>\n",
              "      <td>1.306649</td>\n",
              "      <td>-0.718509</td>\n",
              "    </tr>\n",
              "    <tr>\n",
              "      <th>2021-01-02</th>\n",
              "      <td>-0.527446</td>\n",
              "      <td>0.502861</td>\n",
              "      <td>-0.934000</td>\n",
              "      <td>1.420596</td>\n",
              "    </tr>\n",
              "    <tr>\n",
              "      <th>2021-01-03</th>\n",
              "      <td>-0.638178</td>\n",
              "      <td>-0.549283</td>\n",
              "      <td>-1.031534</td>\n",
              "      <td>-1.577913</td>\n",
              "    </tr>\n",
              "    <tr>\n",
              "      <th>2021-01-04</th>\n",
              "      <td>-1.508948</td>\n",
              "      <td>-0.759427</td>\n",
              "      <td>1.240523</td>\n",
              "      <td>-0.588213</td>\n",
              "    </tr>\n",
              "    <tr>\n",
              "      <th>2021-01-05</th>\n",
              "      <td>0.672342</td>\n",
              "      <td>-0.195704</td>\n",
              "      <td>0.585632</td>\n",
              "      <td>0.041717</td>\n",
              "    </tr>\n",
              "    <tr>\n",
              "      <th>2021-01-06</th>\n",
              "      <td>2.399295</td>\n",
              "      <td>0.825688</td>\n",
              "      <td>-0.851705</td>\n",
              "      <td>0.366169</td>\n",
              "    </tr>\n",
              "  </tbody>\n",
              "</table>\n",
              "</div>"
            ],
            "text/plain": [
              "                   A         B         C         D\n",
              "2021-01-01 -0.643166 -1.118514  1.306649 -0.718509\n",
              "2021-01-02 -0.527446  0.502861 -0.934000  1.420596\n",
              "2021-01-03 -0.638178 -0.549283 -1.031534 -1.577913\n",
              "2021-01-04 -1.508948 -0.759427  1.240523 -0.588213\n",
              "2021-01-05  0.672342 -0.195704  0.585632  0.041717\n",
              "2021-01-06  2.399295  0.825688 -0.851705  0.366169"
            ]
          },
          "metadata": {},
          "execution_count": 80
        }
      ]
    },
    {
      "cell_type": "code",
      "metadata": {
        "id": "aex5sCJoFJ84",
        "outputId": "b8b90606-66d0-4d7e-9efa-deec943624eb",
        "colab": {
          "base_uri": "https://localhost:8080/",
          "height": 164
        }
      },
      "source": [
        "#head\n",
        "df.head(2)"
      ],
      "execution_count": 81,
      "outputs": [
        {
          "output_type": "execute_result",
          "data": {
            "text/html": [
              "<div>\n",
              "<style scoped>\n",
              "    .dataframe tbody tr th:only-of-type {\n",
              "        vertical-align: middle;\n",
              "    }\n",
              "\n",
              "    .dataframe tbody tr th {\n",
              "        vertical-align: top;\n",
              "    }\n",
              "\n",
              "    .dataframe thead th {\n",
              "        text-align: right;\n",
              "    }\n",
              "</style>\n",
              "<table border=\"1\" class=\"dataframe\">\n",
              "  <thead>\n",
              "    <tr style=\"text-align: right;\">\n",
              "      <th></th>\n",
              "      <th>A</th>\n",
              "      <th>B</th>\n",
              "      <th>C</th>\n",
              "      <th>D</th>\n",
              "    </tr>\n",
              "  </thead>\n",
              "  <tbody>\n",
              "    <tr>\n",
              "      <th>2021-01-01</th>\n",
              "      <td>-0.643166</td>\n",
              "      <td>-1.118514</td>\n",
              "      <td>1.306649</td>\n",
              "      <td>-0.718509</td>\n",
              "    </tr>\n",
              "    <tr>\n",
              "      <th>2021-01-02</th>\n",
              "      <td>-0.527446</td>\n",
              "      <td>0.502861</td>\n",
              "      <td>-0.934000</td>\n",
              "      <td>1.420596</td>\n",
              "    </tr>\n",
              "  </tbody>\n",
              "</table>\n",
              "</div>"
            ],
            "text/plain": [
              "                   A         B         C         D\n",
              "2021-01-01 -0.643166 -1.118514  1.306649 -0.718509\n",
              "2021-01-02 -0.527446  0.502861 -0.934000  1.420596"
            ]
          },
          "metadata": {},
          "execution_count": 81
        }
      ]
    },
    {
      "cell_type": "code",
      "metadata": {
        "id": "doj0ZqWtFP0z",
        "outputId": "3433a0c0-8382-4781-e9d6-1d8c9abcefcf",
        "colab": {
          "base_uri": "https://localhost:8080/",
          "height": 212
        }
      },
      "source": [
        "#tail\n",
        "df.tail(3)"
      ],
      "execution_count": 83,
      "outputs": [
        {
          "output_type": "execute_result",
          "data": {
            "text/html": [
              "<div>\n",
              "<style scoped>\n",
              "    .dataframe tbody tr th:only-of-type {\n",
              "        vertical-align: middle;\n",
              "    }\n",
              "\n",
              "    .dataframe tbody tr th {\n",
              "        vertical-align: top;\n",
              "    }\n",
              "\n",
              "    .dataframe thead th {\n",
              "        text-align: right;\n",
              "    }\n",
              "</style>\n",
              "<table border=\"1\" class=\"dataframe\">\n",
              "  <thead>\n",
              "    <tr style=\"text-align: right;\">\n",
              "      <th></th>\n",
              "      <th>A</th>\n",
              "      <th>B</th>\n",
              "      <th>C</th>\n",
              "      <th>D</th>\n",
              "    </tr>\n",
              "  </thead>\n",
              "  <tbody>\n",
              "    <tr>\n",
              "      <th>2021-01-04</th>\n",
              "      <td>-1.508948</td>\n",
              "      <td>-0.759427</td>\n",
              "      <td>1.240523</td>\n",
              "      <td>-0.588213</td>\n",
              "    </tr>\n",
              "    <tr>\n",
              "      <th>2021-01-05</th>\n",
              "      <td>0.672342</td>\n",
              "      <td>-0.195704</td>\n",
              "      <td>0.585632</td>\n",
              "      <td>0.041717</td>\n",
              "    </tr>\n",
              "    <tr>\n",
              "      <th>2021-01-06</th>\n",
              "      <td>2.399295</td>\n",
              "      <td>0.825688</td>\n",
              "      <td>-0.851705</td>\n",
              "      <td>0.366169</td>\n",
              "    </tr>\n",
              "  </tbody>\n",
              "</table>\n",
              "</div>"
            ],
            "text/plain": [
              "                   A         B         C         D\n",
              "2021-01-04 -1.508948 -0.759427  1.240523 -0.588213\n",
              "2021-01-05  0.672342 -0.195704  0.585632  0.041717\n",
              "2021-01-06  2.399295  0.825688 -0.851705  0.366169"
            ]
          },
          "metadata": {},
          "execution_count": 83
        }
      ]
    },
    {
      "cell_type": "code",
      "metadata": {
        "id": "3M4lEP0iFWMC",
        "outputId": "4e57a752-5584-4db2-b936-4d991970f00a",
        "colab": {
          "base_uri": "https://localhost:8080/"
        }
      },
      "source": [
        "#index\n",
        "df.index"
      ],
      "execution_count": 85,
      "outputs": [
        {
          "output_type": "execute_result",
          "data": {
            "text/plain": [
              "DatetimeIndex(['2021-01-01', '2021-01-02', '2021-01-03', '2021-01-04',\n",
              "               '2021-01-05', '2021-01-06'],\n",
              "              dtype='datetime64[ns]', freq='D')"
            ]
          },
          "metadata": {},
          "execution_count": 85
        }
      ]
    },
    {
      "cell_type": "code",
      "metadata": {
        "id": "sS7EIWgdFieD",
        "outputId": "cd9956e2-16af-4ff5-922b-0b35c7088685",
        "colab": {
          "base_uri": "https://localhost:8080/",
          "height": 356
        }
      },
      "source": [
        "#columns\n",
        "pd.set_option('display.max_rows',None)\n",
        "df"
      ],
      "execution_count": 88,
      "outputs": [
        {
          "output_type": "execute_result",
          "data": {
            "text/html": [
              "<div>\n",
              "<style scoped>\n",
              "    .dataframe tbody tr th:only-of-type {\n",
              "        vertical-align: middle;\n",
              "    }\n",
              "\n",
              "    .dataframe tbody tr th {\n",
              "        vertical-align: top;\n",
              "    }\n",
              "\n",
              "    .dataframe thead th {\n",
              "        text-align: right;\n",
              "    }\n",
              "</style>\n",
              "<table border=\"1\" class=\"dataframe\">\n",
              "  <thead>\n",
              "    <tr style=\"text-align: right;\">\n",
              "      <th></th>\n",
              "      <th>A</th>\n",
              "      <th>B</th>\n",
              "      <th>C</th>\n",
              "      <th>D</th>\n",
              "    </tr>\n",
              "  </thead>\n",
              "  <tbody>\n",
              "    <tr>\n",
              "      <th>2021-01-01</th>\n",
              "      <td>-0.643166</td>\n",
              "      <td>-1.118514</td>\n",
              "      <td>1.306649</td>\n",
              "      <td>-0.718509</td>\n",
              "    </tr>\n",
              "    <tr>\n",
              "      <th>2021-01-02</th>\n",
              "      <td>-0.527446</td>\n",
              "      <td>0.502861</td>\n",
              "      <td>-0.934000</td>\n",
              "      <td>1.420596</td>\n",
              "    </tr>\n",
              "    <tr>\n",
              "      <th>2021-01-03</th>\n",
              "      <td>-0.638178</td>\n",
              "      <td>-0.549283</td>\n",
              "      <td>-1.031534</td>\n",
              "      <td>-1.577913</td>\n",
              "    </tr>\n",
              "    <tr>\n",
              "      <th>2021-01-04</th>\n",
              "      <td>-1.508948</td>\n",
              "      <td>-0.759427</td>\n",
              "      <td>1.240523</td>\n",
              "      <td>-0.588213</td>\n",
              "    </tr>\n",
              "    <tr>\n",
              "      <th>2021-01-05</th>\n",
              "      <td>0.672342</td>\n",
              "      <td>-0.195704</td>\n",
              "      <td>0.585632</td>\n",
              "      <td>0.041717</td>\n",
              "    </tr>\n",
              "    <tr>\n",
              "      <th>2021-01-06</th>\n",
              "      <td>2.399295</td>\n",
              "      <td>0.825688</td>\n",
              "      <td>-0.851705</td>\n",
              "      <td>0.366169</td>\n",
              "    </tr>\n",
              "  </tbody>\n",
              "</table>\n",
              "</div>"
            ],
            "text/plain": [
              "                   A         B         C         D\n",
              "2021-01-01 -0.643166 -1.118514  1.306649 -0.718509\n",
              "2021-01-02 -0.527446  0.502861 -0.934000  1.420596\n",
              "2021-01-03 -0.638178 -0.549283 -1.031534 -1.577913\n",
              "2021-01-04 -1.508948 -0.759427  1.240523 -0.588213\n",
              "2021-01-05  0.672342 -0.195704  0.585632  0.041717\n",
              "2021-01-06  2.399295  0.825688 -0.851705  0.366169"
            ]
          },
          "metadata": {},
          "execution_count": 88
        }
      ]
    },
    {
      "cell_type": "code",
      "metadata": {
        "id": "1k8_zfTkFdRa",
        "outputId": "ea92bf71-3b15-463a-97d1-f11d6b0499f4",
        "colab": {
          "base_uri": "https://localhost:8080/"
        }
      },
      "source": [
        "#values\n",
        "df['A']"
      ],
      "execution_count": 94,
      "outputs": [
        {
          "output_type": "execute_result",
          "data": {
            "text/plain": [
              "2021-01-01   -0.643166\n",
              "2021-01-02   -0.527446\n",
              "2021-01-03   -0.638178\n",
              "2021-01-04   -1.508948\n",
              "2021-01-05    0.672342\n",
              "2021-01-06    2.399295\n",
              "Freq: D, Name: A, dtype: float64"
            ]
          },
          "metadata": {},
          "execution_count": 94
        }
      ]
    },
    {
      "cell_type": "code",
      "metadata": {
        "id": "PsMcNYy4FrlA",
        "outputId": "6a313d59-1dcd-4c41-eaac-26e6f7f7c11c",
        "colab": {
          "base_uri": "https://localhost:8080/",
          "height": 315
        }
      },
      "source": [
        "#statistics \n",
        "df.describe()"
      ],
      "execution_count": 86,
      "outputs": [
        {
          "output_type": "execute_result",
          "data": {
            "text/html": [
              "<div>\n",
              "<style scoped>\n",
              "    .dataframe tbody tr th:only-of-type {\n",
              "        vertical-align: middle;\n",
              "    }\n",
              "\n",
              "    .dataframe tbody tr th {\n",
              "        vertical-align: top;\n",
              "    }\n",
              "\n",
              "    .dataframe thead th {\n",
              "        text-align: right;\n",
              "    }\n",
              "</style>\n",
              "<table border=\"1\" class=\"dataframe\">\n",
              "  <thead>\n",
              "    <tr style=\"text-align: right;\">\n",
              "      <th></th>\n",
              "      <th>A</th>\n",
              "      <th>B</th>\n",
              "      <th>C</th>\n",
              "      <th>D</th>\n",
              "    </tr>\n",
              "  </thead>\n",
              "  <tbody>\n",
              "    <tr>\n",
              "      <th>count</th>\n",
              "      <td>6.000000</td>\n",
              "      <td>6.000000</td>\n",
              "      <td>6.000000</td>\n",
              "      <td>6.000000</td>\n",
              "    </tr>\n",
              "    <tr>\n",
              "      <th>mean</th>\n",
              "      <td>-0.041017</td>\n",
              "      <td>-0.215730</td>\n",
              "      <td>0.052594</td>\n",
              "      <td>-0.176025</td>\n",
              "    </tr>\n",
              "    <tr>\n",
              "      <th>std</th>\n",
              "      <td>1.383808</td>\n",
              "      <td>0.751427</td>\n",
              "      <td>1.116639</td>\n",
              "      <td>1.031510</td>\n",
              "    </tr>\n",
              "    <tr>\n",
              "      <th>min</th>\n",
              "      <td>-1.508948</td>\n",
              "      <td>-1.118514</td>\n",
              "      <td>-1.031534</td>\n",
              "      <td>-1.577913</td>\n",
              "    </tr>\n",
              "    <tr>\n",
              "      <th>25%</th>\n",
              "      <td>-0.641919</td>\n",
              "      <td>-0.706891</td>\n",
              "      <td>-0.913426</td>\n",
              "      <td>-0.685935</td>\n",
              "    </tr>\n",
              "    <tr>\n",
              "      <th>50%</th>\n",
              "      <td>-0.582812</td>\n",
              "      <td>-0.372494</td>\n",
              "      <td>-0.133037</td>\n",
              "      <td>-0.273248</td>\n",
              "    </tr>\n",
              "    <tr>\n",
              "      <th>75%</th>\n",
              "      <td>0.372395</td>\n",
              "      <td>0.328220</td>\n",
              "      <td>1.076800</td>\n",
              "      <td>0.285056</td>\n",
              "    </tr>\n",
              "    <tr>\n",
              "      <th>max</th>\n",
              "      <td>2.399295</td>\n",
              "      <td>0.825688</td>\n",
              "      <td>1.306649</td>\n",
              "      <td>1.420596</td>\n",
              "    </tr>\n",
              "  </tbody>\n",
              "</table>\n",
              "</div>"
            ],
            "text/plain": [
              "              A         B         C         D\n",
              "count  6.000000  6.000000  6.000000  6.000000\n",
              "mean  -0.041017 -0.215730  0.052594 -0.176025\n",
              "std    1.383808  0.751427  1.116639  1.031510\n",
              "min   -1.508948 -1.118514 -1.031534 -1.577913\n",
              "25%   -0.641919 -0.706891 -0.913426 -0.685935\n",
              "50%   -0.582812 -0.372494 -0.133037 -0.273248\n",
              "75%    0.372395  0.328220  1.076800  0.285056\n",
              "max    2.399295  0.825688  1.306649  1.420596"
            ]
          },
          "metadata": {},
          "execution_count": 86
        }
      ]
    },
    {
      "cell_type": "markdown",
      "metadata": {
        "id": "xnkA2mKDdyoO"
      },
      "source": [
        "2. Use the above table and,\n",
        "      - find transpose of your data.\n",
        "      - sort the index in the descending order of the date."
      ]
    },
    {
      "cell_type": "code",
      "metadata": {
        "id": "uqcQSEOufJ5P",
        "outputId": "6f0d2a0d-501c-4563-c14e-59a379f0c2ff",
        "colab": {
          "base_uri": "https://localhost:8080/",
          "height": 209
        }
      },
      "source": [
        "#please provide your answer below this line.\n",
        "#trandpose\n",
        "df.transpose()"
      ],
      "execution_count": 89,
      "outputs": [
        {
          "output_type": "execute_result",
          "data": {
            "text/html": [
              "<div>\n",
              "<style scoped>\n",
              "    .dataframe tbody tr th:only-of-type {\n",
              "        vertical-align: middle;\n",
              "    }\n",
              "\n",
              "    .dataframe tbody tr th {\n",
              "        vertical-align: top;\n",
              "    }\n",
              "\n",
              "    .dataframe thead th {\n",
              "        text-align: right;\n",
              "    }\n",
              "</style>\n",
              "<table border=\"1\" class=\"dataframe\">\n",
              "  <thead>\n",
              "    <tr style=\"text-align: right;\">\n",
              "      <th></th>\n",
              "      <th>2021-01-01</th>\n",
              "      <th>2021-01-02</th>\n",
              "      <th>2021-01-03</th>\n",
              "      <th>2021-01-04</th>\n",
              "      <th>2021-01-05</th>\n",
              "      <th>2021-01-06</th>\n",
              "    </tr>\n",
              "  </thead>\n",
              "  <tbody>\n",
              "    <tr>\n",
              "      <th>A</th>\n",
              "      <td>-0.643166</td>\n",
              "      <td>-0.527446</td>\n",
              "      <td>-0.638178</td>\n",
              "      <td>-1.508948</td>\n",
              "      <td>0.672342</td>\n",
              "      <td>2.399295</td>\n",
              "    </tr>\n",
              "    <tr>\n",
              "      <th>B</th>\n",
              "      <td>-1.118514</td>\n",
              "      <td>0.502861</td>\n",
              "      <td>-0.549283</td>\n",
              "      <td>-0.759427</td>\n",
              "      <td>-0.195704</td>\n",
              "      <td>0.825688</td>\n",
              "    </tr>\n",
              "    <tr>\n",
              "      <th>C</th>\n",
              "      <td>1.306649</td>\n",
              "      <td>-0.934000</td>\n",
              "      <td>-1.031534</td>\n",
              "      <td>1.240523</td>\n",
              "      <td>0.585632</td>\n",
              "      <td>-0.851705</td>\n",
              "    </tr>\n",
              "    <tr>\n",
              "      <th>D</th>\n",
              "      <td>-0.718509</td>\n",
              "      <td>1.420596</td>\n",
              "      <td>-1.577913</td>\n",
              "      <td>-0.588213</td>\n",
              "      <td>0.041717</td>\n",
              "      <td>0.366169</td>\n",
              "    </tr>\n",
              "  </tbody>\n",
              "</table>\n",
              "</div>"
            ],
            "text/plain": [
              "   2021-01-01  2021-01-02  2021-01-03  2021-01-04  2021-01-05  2021-01-06\n",
              "A   -0.643166   -0.527446   -0.638178   -1.508948    0.672342    2.399295\n",
              "B   -1.118514    0.502861   -0.549283   -0.759427   -0.195704    0.825688\n",
              "C    1.306649   -0.934000   -1.031534    1.240523    0.585632   -0.851705\n",
              "D   -0.718509    1.420596   -1.577913   -0.588213    0.041717    0.366169"
            ]
          },
          "metadata": {},
          "execution_count": 89
        }
      ]
    },
    {
      "cell_type": "code",
      "metadata": {
        "id": "JqXuId6bGljd",
        "outputId": "80824a0d-31e4-4440-f1ab-de858bd6f64c",
        "colab": {
          "base_uri": "https://localhost:8080/",
          "height": 356
        }
      },
      "source": [
        "#descending order\n",
        "df.sort_index(ascending=0)"
      ],
      "execution_count": 104,
      "outputs": [
        {
          "output_type": "execute_result",
          "data": {
            "text/html": [
              "<div>\n",
              "<style scoped>\n",
              "    .dataframe tbody tr th:only-of-type {\n",
              "        vertical-align: middle;\n",
              "    }\n",
              "\n",
              "    .dataframe tbody tr th {\n",
              "        vertical-align: top;\n",
              "    }\n",
              "\n",
              "    .dataframe thead th {\n",
              "        text-align: right;\n",
              "    }\n",
              "</style>\n",
              "<table border=\"1\" class=\"dataframe\">\n",
              "  <thead>\n",
              "    <tr style=\"text-align: right;\">\n",
              "      <th></th>\n",
              "      <th>A</th>\n",
              "      <th>B</th>\n",
              "      <th>C</th>\n",
              "      <th>D</th>\n",
              "    </tr>\n",
              "  </thead>\n",
              "  <tbody>\n",
              "    <tr>\n",
              "      <th>2021-01-06</th>\n",
              "      <td>2.399295</td>\n",
              "      <td>0.825688</td>\n",
              "      <td>-0.851705</td>\n",
              "      <td>0.366169</td>\n",
              "    </tr>\n",
              "    <tr>\n",
              "      <th>2021-01-05</th>\n",
              "      <td>0.672342</td>\n",
              "      <td>-0.195704</td>\n",
              "      <td>0.585632</td>\n",
              "      <td>0.041717</td>\n",
              "    </tr>\n",
              "    <tr>\n",
              "      <th>2021-01-04</th>\n",
              "      <td>-1.508948</td>\n",
              "      <td>-0.759427</td>\n",
              "      <td>1.240523</td>\n",
              "      <td>-0.588213</td>\n",
              "    </tr>\n",
              "    <tr>\n",
              "      <th>2021-01-03</th>\n",
              "      <td>-0.638178</td>\n",
              "      <td>-0.549283</td>\n",
              "      <td>-1.031534</td>\n",
              "      <td>-1.577913</td>\n",
              "    </tr>\n",
              "    <tr>\n",
              "      <th>2021-01-02</th>\n",
              "      <td>-0.527446</td>\n",
              "      <td>0.502861</td>\n",
              "      <td>-0.934000</td>\n",
              "      <td>1.420596</td>\n",
              "    </tr>\n",
              "    <tr>\n",
              "      <th>2021-01-01</th>\n",
              "      <td>-0.643166</td>\n",
              "      <td>-1.118514</td>\n",
              "      <td>1.306649</td>\n",
              "      <td>-0.718509</td>\n",
              "    </tr>\n",
              "  </tbody>\n",
              "</table>\n",
              "</div>"
            ],
            "text/plain": [
              "                   A         B         C         D\n",
              "2021-01-06  2.399295  0.825688 -0.851705  0.366169\n",
              "2021-01-05  0.672342 -0.195704  0.585632  0.041717\n",
              "2021-01-04 -1.508948 -0.759427  1.240523 -0.588213\n",
              "2021-01-03 -0.638178 -0.549283 -1.031534 -1.577913\n",
              "2021-01-02 -0.527446  0.502861 -0.934000  1.420596\n",
              "2021-01-01 -0.643166 -1.118514  1.306649 -0.718509"
            ]
          },
          "metadata": {},
          "execution_count": 104
        }
      ]
    },
    {
      "cell_type": "markdown",
      "metadata": {
        "id": "ss7s_8iDbAcL"
      },
      "source": [
        ""
      ]
    }
  ]
}