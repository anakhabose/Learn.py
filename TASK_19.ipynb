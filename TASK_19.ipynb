{
  "nbformat": 4,
  "nbformat_minor": 0,
  "metadata": {
    "colab": {
      "name": "TASK 19.ipynb",
      "provenance": [],
      "include_colab_link": true
    },
    "kernelspec": {
      "name": "python3",
      "display_name": "Python 3"
    },
    "language_info": {
      "name": "python"
    }
  },
  "cells": [
    {
      "cell_type": "markdown",
      "metadata": {
        "id": "view-in-github",
        "colab_type": "text"
      },
      "source": [
        "<a href=\"https://colab.research.google.com/github/anakhabose/Learn.py/blob/main/TASK_19.ipynb\" target=\"_parent\"><img src=\"https://colab.research.google.com/assets/colab-badge.svg\" alt=\"Open In Colab\"/></a>"
      ]
    },
    {
      "cell_type": "markdown",
      "metadata": {
        "id": "6J-6GvX2JUcC"
      },
      "source": [
        "1. Create a DataFrame by passing a random numpy array,with a dateted index and labelled columns and display,\n",
        "  - where values of the column A is greater than 0.\n",
        "  - where values of the columns A is greater than 0 and B greater than -1.\n",
        "  - where values of the columns A  is greater than 0 or B greater than -1.\n"
      ]
    },
    {
      "cell_type": "code",
      "metadata": {
        "id": "xX-5VikpLcHL",
        "outputId": "eec8f108-fe82-49a5-b15e-d712a9216505",
        "colab": {
          "base_uri": "https://localhost:8080/",
          "height": 234
        }
      },
      "source": [
        "#please type your code below this line.\n",
        "import pandas as pd\n",
        "import numpy as np\n",
        "dates = pd.date_range('20210101',periods=6)\n",
        "df = pd.DataFrame(np.random.randn(6,4),index=dates ,columns=list('ABCD'))\n",
        "df"
      ],
      "execution_count": 137,
      "outputs": [
        {
          "output_type": "execute_result",
          "data": {
            "text/html": [
              "<div>\n",
              "<style scoped>\n",
              "    .dataframe tbody tr th:only-of-type {\n",
              "        vertical-align: middle;\n",
              "    }\n",
              "\n",
              "    .dataframe tbody tr th {\n",
              "        vertical-align: top;\n",
              "    }\n",
              "\n",
              "    .dataframe thead th {\n",
              "        text-align: right;\n",
              "    }\n",
              "</style>\n",
              "<table border=\"1\" class=\"dataframe\">\n",
              "  <thead>\n",
              "    <tr style=\"text-align: right;\">\n",
              "      <th></th>\n",
              "      <th>A</th>\n",
              "      <th>B</th>\n",
              "      <th>C</th>\n",
              "      <th>D</th>\n",
              "    </tr>\n",
              "  </thead>\n",
              "  <tbody>\n",
              "    <tr>\n",
              "      <th>2021-01-01</th>\n",
              "      <td>0.115094</td>\n",
              "      <td>0.658871</td>\n",
              "      <td>-1.133046</td>\n",
              "      <td>0.792560</td>\n",
              "    </tr>\n",
              "    <tr>\n",
              "      <th>2021-01-02</th>\n",
              "      <td>-0.455057</td>\n",
              "      <td>0.964447</td>\n",
              "      <td>2.157943</td>\n",
              "      <td>-1.498099</td>\n",
              "    </tr>\n",
              "    <tr>\n",
              "      <th>2021-01-03</th>\n",
              "      <td>-0.169385</td>\n",
              "      <td>-1.032906</td>\n",
              "      <td>0.580209</td>\n",
              "      <td>0.071748</td>\n",
              "    </tr>\n",
              "    <tr>\n",
              "      <th>2021-01-04</th>\n",
              "      <td>0.888194</td>\n",
              "      <td>1.333278</td>\n",
              "      <td>1.433681</td>\n",
              "      <td>0.489122</td>\n",
              "    </tr>\n",
              "    <tr>\n",
              "      <th>2021-01-05</th>\n",
              "      <td>-0.508914</td>\n",
              "      <td>-0.451103</td>\n",
              "      <td>-1.090664</td>\n",
              "      <td>0.984675</td>\n",
              "    </tr>\n",
              "    <tr>\n",
              "      <th>2021-01-06</th>\n",
              "      <td>0.265470</td>\n",
              "      <td>-0.846885</td>\n",
              "      <td>0.913885</td>\n",
              "      <td>-0.634669</td>\n",
              "    </tr>\n",
              "  </tbody>\n",
              "</table>\n",
              "</div>"
            ],
            "text/plain": [
              "                   A         B         C         D\n",
              "2021-01-01  0.115094  0.658871 -1.133046  0.792560\n",
              "2021-01-02 -0.455057  0.964447  2.157943 -1.498099\n",
              "2021-01-03 -0.169385 -1.032906  0.580209  0.071748\n",
              "2021-01-04  0.888194  1.333278  1.433681  0.489122\n",
              "2021-01-05 -0.508914 -0.451103 -1.090664  0.984675\n",
              "2021-01-06  0.265470 -0.846885  0.913885 -0.634669"
            ]
          },
          "metadata": {},
          "execution_count": 137
        }
      ]
    },
    {
      "cell_type": "code",
      "metadata": {
        "id": "fiT81IhkplKB",
        "outputId": "bdfd97cf-d1ea-46d8-8679-743fffe8abf5",
        "colab": {
          "base_uri": "https://localhost:8080/"
        }
      },
      "source": [
        "#values if A, >0\n",
        "value = df[\"A\"] >0\n",
        "value"
      ],
      "execution_count": 142,
      "outputs": [
        {
          "output_type": "execute_result",
          "data": {
            "text/plain": [
              "2021-01-01     True\n",
              "2021-01-02    False\n",
              "2021-01-03    False\n",
              "2021-01-04     True\n",
              "2021-01-05    False\n",
              "2021-01-06     True\n",
              "Freq: D, Name: A, dtype: bool"
            ]
          },
          "metadata": {},
          "execution_count": 142
        }
      ]
    },
    {
      "cell_type": "code",
      "metadata": {
        "id": "c14akDh5qIrY",
        "outputId": "54226360-b3b1-4265-e2f5-af040eb27974",
        "colab": {
          "base_uri": "https://localhost:8080/"
        }
      },
      "source": [
        "#A>0 and B>-1\n",
        "x = df[\"A\"] >0\n",
        "y = df[\"B\"] >-1\n",
        "x & y"
      ],
      "execution_count": 143,
      "outputs": [
        {
          "output_type": "execute_result",
          "data": {
            "text/plain": [
              "2021-01-01     True\n",
              "2021-01-02    False\n",
              "2021-01-03    False\n",
              "2021-01-04     True\n",
              "2021-01-05    False\n",
              "2021-01-06     True\n",
              "Freq: D, dtype: bool"
            ]
          },
          "metadata": {},
          "execution_count": 143
        }
      ]
    },
    {
      "cell_type": "code",
      "metadata": {
        "id": "noi2mdbgqmYS",
        "outputId": "901d3fb1-9731-4362-ac97-e90c3814b88e",
        "colab": {
          "base_uri": "https://localhost:8080/"
        }
      },
      "source": [
        "#A>0 or B>-1\n",
        "x | y"
      ],
      "execution_count": 144,
      "outputs": [
        {
          "output_type": "execute_result",
          "data": {
            "text/plain": [
              "2021-01-01     True\n",
              "2021-01-02     True\n",
              "2021-01-03    False\n",
              "2021-01-04     True\n",
              "2021-01-05     True\n",
              "2021-01-06     True\n",
              "Freq: D, dtype: bool"
            ]
          },
          "metadata": {},
          "execution_count": 144
        }
      ]
    },
    {
      "cell_type": "markdown",
      "metadata": {
        "id": "1WAf9SbwLp6o"
      },
      "source": [
        "2. Create a DataFrame by passing a random numpy array,with a dateted index and labelled columns and check if ,\n",
        "  - the values of the table are greater the zero or not.\n",
        "  - the value at the postion (0,0) is equal to NaN or not."
      ]
    },
    {
      "cell_type": "code",
      "metadata": {
        "id": "rBrt8pMeM2Q5",
        "outputId": "ce7b2b4d-7431-4669-bedf-d9dfed909ac0",
        "colab": {
          "base_uri": "https://localhost:8080/",
          "height": 308
        }
      },
      "source": [
        "#please type your code below this line.\n",
        " \n",
        " \n",
        "import pandas as pd\n",
        "import numpy as np\n",
        "dates = pd.date_range('20210101',periods=5)\n",
        "df1 = pd.DataFrame(np.random.randn(5,4),index=dates ,columns=list('ABCD'))\n",
        "df1"
      ],
      "execution_count": 146,
      "outputs": [
        {
          "output_type": "execute_result",
          "data": {
            "text/html": [
              "<div>\n",
              "<style scoped>\n",
              "    .dataframe tbody tr th:only-of-type {\n",
              "        vertical-align: middle;\n",
              "    }\n",
              "\n",
              "    .dataframe tbody tr th {\n",
              "        vertical-align: top;\n",
              "    }\n",
              "\n",
              "    .dataframe thead th {\n",
              "        text-align: right;\n",
              "    }\n",
              "</style>\n",
              "<table border=\"1\" class=\"dataframe\">\n",
              "  <thead>\n",
              "    <tr style=\"text-align: right;\">\n",
              "      <th></th>\n",
              "      <th>A</th>\n",
              "      <th>B</th>\n",
              "      <th>C</th>\n",
              "      <th>D</th>\n",
              "    </tr>\n",
              "  </thead>\n",
              "  <tbody>\n",
              "    <tr>\n",
              "      <th>2021-01-01</th>\n",
              "      <td>-0.454508</td>\n",
              "      <td>-2.072146</td>\n",
              "      <td>0.437977</td>\n",
              "      <td>-1.213780</td>\n",
              "    </tr>\n",
              "    <tr>\n",
              "      <th>2021-01-02</th>\n",
              "      <td>0.810879</td>\n",
              "      <td>0.196125</td>\n",
              "      <td>-0.924421</td>\n",
              "      <td>-0.508119</td>\n",
              "    </tr>\n",
              "    <tr>\n",
              "      <th>2021-01-03</th>\n",
              "      <td>0.770538</td>\n",
              "      <td>-0.703313</td>\n",
              "      <td>-1.257789</td>\n",
              "      <td>-0.805553</td>\n",
              "    </tr>\n",
              "    <tr>\n",
              "      <th>2021-01-04</th>\n",
              "      <td>-0.036742</td>\n",
              "      <td>-0.274393</td>\n",
              "      <td>0.255451</td>\n",
              "      <td>-1.147444</td>\n",
              "    </tr>\n",
              "    <tr>\n",
              "      <th>2021-01-05</th>\n",
              "      <td>-0.634778</td>\n",
              "      <td>-1.861693</td>\n",
              "      <td>-0.393391</td>\n",
              "      <td>0.180819</td>\n",
              "    </tr>\n",
              "  </tbody>\n",
              "</table>\n",
              "</div>"
            ],
            "text/plain": [
              "                   A         B         C         D\n",
              "2021-01-01 -0.454508 -2.072146  0.437977 -1.213780\n",
              "2021-01-02  0.810879  0.196125 -0.924421 -0.508119\n",
              "2021-01-03  0.770538 -0.703313 -1.257789 -0.805553\n",
              "2021-01-04 -0.036742 -0.274393  0.255451 -1.147444\n",
              "2021-01-05 -0.634778 -1.861693 -0.393391  0.180819"
            ]
          },
          "metadata": {},
          "execution_count": 146
        }
      ]
    },
    {
      "cell_type": "code",
      "metadata": {
        "id": "0dkb_SVHrJAp",
        "outputId": "0cd13d62-b42f-4cb2-a90d-24295fc6d25c",
        "colab": {
          "base_uri": "https://localhost:8080/",
          "height": 203
        }
      },
      "source": [
        "#check >0\n",
        "x = df1>0\n",
        "x"
      ],
      "execution_count": 147,
      "outputs": [
        {
          "output_type": "execute_result",
          "data": {
            "text/html": [
              "<div>\n",
              "<style scoped>\n",
              "    .dataframe tbody tr th:only-of-type {\n",
              "        vertical-align: middle;\n",
              "    }\n",
              "\n",
              "    .dataframe tbody tr th {\n",
              "        vertical-align: top;\n",
              "    }\n",
              "\n",
              "    .dataframe thead th {\n",
              "        text-align: right;\n",
              "    }\n",
              "</style>\n",
              "<table border=\"1\" class=\"dataframe\">\n",
              "  <thead>\n",
              "    <tr style=\"text-align: right;\">\n",
              "      <th></th>\n",
              "      <th>A</th>\n",
              "      <th>B</th>\n",
              "      <th>C</th>\n",
              "      <th>D</th>\n",
              "    </tr>\n",
              "  </thead>\n",
              "  <tbody>\n",
              "    <tr>\n",
              "      <th>2021-01-01</th>\n",
              "      <td>False</td>\n",
              "      <td>False</td>\n",
              "      <td>True</td>\n",
              "      <td>False</td>\n",
              "    </tr>\n",
              "    <tr>\n",
              "      <th>2021-01-02</th>\n",
              "      <td>True</td>\n",
              "      <td>True</td>\n",
              "      <td>False</td>\n",
              "      <td>False</td>\n",
              "    </tr>\n",
              "    <tr>\n",
              "      <th>2021-01-03</th>\n",
              "      <td>True</td>\n",
              "      <td>False</td>\n",
              "      <td>False</td>\n",
              "      <td>False</td>\n",
              "    </tr>\n",
              "    <tr>\n",
              "      <th>2021-01-04</th>\n",
              "      <td>False</td>\n",
              "      <td>False</td>\n",
              "      <td>True</td>\n",
              "      <td>False</td>\n",
              "    </tr>\n",
              "    <tr>\n",
              "      <th>2021-01-05</th>\n",
              "      <td>False</td>\n",
              "      <td>False</td>\n",
              "      <td>False</td>\n",
              "      <td>True</td>\n",
              "    </tr>\n",
              "  </tbody>\n",
              "</table>\n",
              "</div>"
            ],
            "text/plain": [
              "                A      B      C      D\n",
              "2021-01-01  False  False   True  False\n",
              "2021-01-02   True   True  False  False\n",
              "2021-01-03   True  False  False  False\n",
              "2021-01-04  False  False   True  False\n",
              "2021-01-05  False  False  False   True"
            ]
          },
          "metadata": {},
          "execution_count": 147
        }
      ]
    },
    {
      "cell_type": "code",
      "metadata": {
        "id": "EkVcXp9OrYBa",
        "outputId": "83ccc65c-95ed-46b8-e20c-d582c2869741",
        "colab": {
          "base_uri": "https://localhost:8080/"
        }
      },
      "source": [
        "#chevk NaN(0,0)\n",
        "df.iloc[0,0]==np.nan"
      ],
      "execution_count": 148,
      "outputs": [
        {
          "output_type": "execute_result",
          "data": {
            "text/plain": [
              "False"
            ]
          },
          "metadata": {},
          "execution_count": 148
        }
      ]
    },
    {
      "cell_type": "markdown",
      "metadata": {
        "id": "IfM9XYmiNaKB"
      },
      "source": [
        "3. Create a DataFrame by passing a random numpy array,with a dateted index and labelled columns and,\n",
        "  - reindex the index with even dates.\n",
        "  - create a column with values NaN.\n",
        "  - make the values of the first two index of the newly created column as 1"
      ]
    },
    {
      "cell_type": "code",
      "metadata": {
        "id": "F-w8kEfaORg3",
        "outputId": "8ad99f31-87d4-4aa6-e791-ee6924075dc9",
        "colab": {
          "base_uri": "https://localhost:8080/",
          "height": 260
        }
      },
      "source": [
        "#please type your answer below this line.\n",
        " \n",
        " \n",
        "import pandas as pd\n",
        "import numpy as np\n",
        "dates = pd.date_range('20210101',periods=4)\n",
        "df2 = pd.DataFrame(np.random.randn(4,4),index=dates ,columns=list('ABCD'))\n",
        "df2"
      ],
      "execution_count": 131,
      "outputs": [
        {
          "output_type": "execute_result",
          "data": {
            "text/html": [
              "<div>\n",
              "<style scoped>\n",
              "    .dataframe tbody tr th:only-of-type {\n",
              "        vertical-align: middle;\n",
              "    }\n",
              "\n",
              "    .dataframe tbody tr th {\n",
              "        vertical-align: top;\n",
              "    }\n",
              "\n",
              "    .dataframe thead th {\n",
              "        text-align: right;\n",
              "    }\n",
              "</style>\n",
              "<table border=\"1\" class=\"dataframe\">\n",
              "  <thead>\n",
              "    <tr style=\"text-align: right;\">\n",
              "      <th></th>\n",
              "      <th>A</th>\n",
              "      <th>B</th>\n",
              "      <th>C</th>\n",
              "      <th>D</th>\n",
              "    </tr>\n",
              "  </thead>\n",
              "  <tbody>\n",
              "    <tr>\n",
              "      <th>2021-01-01</th>\n",
              "      <td>-0.163922</td>\n",
              "      <td>-0.702141</td>\n",
              "      <td>-0.546585</td>\n",
              "      <td>0.436791</td>\n",
              "    </tr>\n",
              "    <tr>\n",
              "      <th>2021-01-02</th>\n",
              "      <td>1.379752</td>\n",
              "      <td>1.287807</td>\n",
              "      <td>0.058288</td>\n",
              "      <td>0.513311</td>\n",
              "    </tr>\n",
              "    <tr>\n",
              "      <th>2021-01-03</th>\n",
              "      <td>-0.952541</td>\n",
              "      <td>0.433414</td>\n",
              "      <td>-0.523059</td>\n",
              "      <td>-0.205490</td>\n",
              "    </tr>\n",
              "    <tr>\n",
              "      <th>2021-01-04</th>\n",
              "      <td>1.153511</td>\n",
              "      <td>0.966109</td>\n",
              "      <td>-1.919304</td>\n",
              "      <td>1.234664</td>\n",
              "    </tr>\n",
              "  </tbody>\n",
              "</table>\n",
              "</div>"
            ],
            "text/plain": [
              "                   A         B         C         D\n",
              "2021-01-01 -0.163922 -0.702141 -0.546585  0.436791\n",
              "2021-01-02  1.379752  1.287807  0.058288  0.513311\n",
              "2021-01-03 -0.952541  0.433414 -0.523059 -0.205490\n",
              "2021-01-04  1.153511  0.966109 -1.919304  1.234664"
            ]
          },
          "metadata": {},
          "execution_count": 131
        }
      ]
    },
    {
      "cell_type": "code",
      "metadata": {
        "id": "KnWYN8tZNp_a",
        "outputId": "b24b3ae5-9465-41b9-d891-486836340209",
        "colab": {
          "base_uri": "https://localhost:8080/",
          "height": 260
        }
      },
      "source": [
        "#reindex\n",
        "index2 = pd.date_range('20210102', periods=4 ,freq=\"2D\")\n",
        "df3 = df2.reindex(index2)\n",
        "df3"
      ],
      "execution_count": 134,
      "outputs": [
        {
          "output_type": "execute_result",
          "data": {
            "text/html": [
              "<div>\n",
              "<style scoped>\n",
              "    .dataframe tbody tr th:only-of-type {\n",
              "        vertical-align: middle;\n",
              "    }\n",
              "\n",
              "    .dataframe tbody tr th {\n",
              "        vertical-align: top;\n",
              "    }\n",
              "\n",
              "    .dataframe thead th {\n",
              "        text-align: right;\n",
              "    }\n",
              "</style>\n",
              "<table border=\"1\" class=\"dataframe\">\n",
              "  <thead>\n",
              "    <tr style=\"text-align: right;\">\n",
              "      <th></th>\n",
              "      <th>A</th>\n",
              "      <th>B</th>\n",
              "      <th>C</th>\n",
              "      <th>D</th>\n",
              "    </tr>\n",
              "  </thead>\n",
              "  <tbody>\n",
              "    <tr>\n",
              "      <th>2021-01-02</th>\n",
              "      <td>1.379752</td>\n",
              "      <td>1.287807</td>\n",
              "      <td>0.058288</td>\n",
              "      <td>0.513311</td>\n",
              "    </tr>\n",
              "    <tr>\n",
              "      <th>2021-01-04</th>\n",
              "      <td>1.153511</td>\n",
              "      <td>0.966109</td>\n",
              "      <td>-1.919304</td>\n",
              "      <td>1.234664</td>\n",
              "    </tr>\n",
              "    <tr>\n",
              "      <th>2021-01-06</th>\n",
              "      <td>NaN</td>\n",
              "      <td>NaN</td>\n",
              "      <td>NaN</td>\n",
              "      <td>NaN</td>\n",
              "    </tr>\n",
              "    <tr>\n",
              "      <th>2021-01-08</th>\n",
              "      <td>NaN</td>\n",
              "      <td>NaN</td>\n",
              "      <td>NaN</td>\n",
              "      <td>NaN</td>\n",
              "    </tr>\n",
              "  </tbody>\n",
              "</table>\n",
              "</div>"
            ],
            "text/plain": [
              "                   A         B         C         D\n",
              "2021-01-02  1.379752  1.287807  0.058288  0.513311\n",
              "2021-01-04  1.153511  0.966109 -1.919304  1.234664\n",
              "2021-01-06       NaN       NaN       NaN       NaN\n",
              "2021-01-08       NaN       NaN       NaN       NaN"
            ]
          },
          "metadata": {},
          "execution_count": 134
        }
      ]
    },
    {
      "cell_type": "code",
      "metadata": {
        "id": "FT7R302ELmo-",
        "outputId": "754e74fc-f724-40c5-b2a4-c63e87d5579a",
        "colab": {
          "base_uri": "https://localhost:8080/",
          "height": 260
        }
      },
      "source": [
        "#NaN\n",
        "NaN = np.nan\n",
        "df2[\"B\"] = NaN\n",
        "df2"
      ],
      "execution_count": 135,
      "outputs": [
        {
          "output_type": "execute_result",
          "data": {
            "text/html": [
              "<div>\n",
              "<style scoped>\n",
              "    .dataframe tbody tr th:only-of-type {\n",
              "        vertical-align: middle;\n",
              "    }\n",
              "\n",
              "    .dataframe tbody tr th {\n",
              "        vertical-align: top;\n",
              "    }\n",
              "\n",
              "    .dataframe thead th {\n",
              "        text-align: right;\n",
              "    }\n",
              "</style>\n",
              "<table border=\"1\" class=\"dataframe\">\n",
              "  <thead>\n",
              "    <tr style=\"text-align: right;\">\n",
              "      <th></th>\n",
              "      <th>A</th>\n",
              "      <th>B</th>\n",
              "      <th>C</th>\n",
              "      <th>D</th>\n",
              "    </tr>\n",
              "  </thead>\n",
              "  <tbody>\n",
              "    <tr>\n",
              "      <th>2021-01-01</th>\n",
              "      <td>-0.163922</td>\n",
              "      <td>NaN</td>\n",
              "      <td>-0.546585</td>\n",
              "      <td>0.436791</td>\n",
              "    </tr>\n",
              "    <tr>\n",
              "      <th>2021-01-02</th>\n",
              "      <td>1.379752</td>\n",
              "      <td>NaN</td>\n",
              "      <td>0.058288</td>\n",
              "      <td>0.513311</td>\n",
              "    </tr>\n",
              "    <tr>\n",
              "      <th>2021-01-03</th>\n",
              "      <td>-0.952541</td>\n",
              "      <td>NaN</td>\n",
              "      <td>-0.523059</td>\n",
              "      <td>-0.205490</td>\n",
              "    </tr>\n",
              "    <tr>\n",
              "      <th>2021-01-04</th>\n",
              "      <td>1.153511</td>\n",
              "      <td>NaN</td>\n",
              "      <td>-1.919304</td>\n",
              "      <td>1.234664</td>\n",
              "    </tr>\n",
              "  </tbody>\n",
              "</table>\n",
              "</div>"
            ],
            "text/plain": [
              "                   A   B         C         D\n",
              "2021-01-01 -0.163922 NaN -0.546585  0.436791\n",
              "2021-01-02  1.379752 NaN  0.058288  0.513311\n",
              "2021-01-03 -0.952541 NaN -0.523059 -0.205490\n",
              "2021-01-04  1.153511 NaN -1.919304  1.234664"
            ]
          },
          "metadata": {},
          "execution_count": 135
        }
      ]
    },
    {
      "cell_type": "code",
      "metadata": {
        "id": "JHnGiuJBPc7u",
        "outputId": "0bbfc0b3-5449-468c-a6b5-e3b886102d03",
        "colab": {
          "base_uri": "https://localhost:8080/",
          "height": 260
        }
      },
      "source": [
        "#changing values\n",
        "df2.iat[0,1] = '1'\n",
        "df2.iat[1,1] = '1'\n",
        "df2"
      ],
      "execution_count": 136,
      "outputs": [
        {
          "output_type": "execute_result",
          "data": {
            "text/html": [
              "<div>\n",
              "<style scoped>\n",
              "    .dataframe tbody tr th:only-of-type {\n",
              "        vertical-align: middle;\n",
              "    }\n",
              "\n",
              "    .dataframe tbody tr th {\n",
              "        vertical-align: top;\n",
              "    }\n",
              "\n",
              "    .dataframe thead th {\n",
              "        text-align: right;\n",
              "    }\n",
              "</style>\n",
              "<table border=\"1\" class=\"dataframe\">\n",
              "  <thead>\n",
              "    <tr style=\"text-align: right;\">\n",
              "      <th></th>\n",
              "      <th>A</th>\n",
              "      <th>B</th>\n",
              "      <th>C</th>\n",
              "      <th>D</th>\n",
              "    </tr>\n",
              "  </thead>\n",
              "  <tbody>\n",
              "    <tr>\n",
              "      <th>2021-01-01</th>\n",
              "      <td>-0.163922</td>\n",
              "      <td>1.0</td>\n",
              "      <td>-0.546585</td>\n",
              "      <td>0.436791</td>\n",
              "    </tr>\n",
              "    <tr>\n",
              "      <th>2021-01-02</th>\n",
              "      <td>1.379752</td>\n",
              "      <td>1.0</td>\n",
              "      <td>0.058288</td>\n",
              "      <td>0.513311</td>\n",
              "    </tr>\n",
              "    <tr>\n",
              "      <th>2021-01-03</th>\n",
              "      <td>-0.952541</td>\n",
              "      <td>NaN</td>\n",
              "      <td>-0.523059</td>\n",
              "      <td>-0.205490</td>\n",
              "    </tr>\n",
              "    <tr>\n",
              "      <th>2021-01-04</th>\n",
              "      <td>1.153511</td>\n",
              "      <td>NaN</td>\n",
              "      <td>-1.919304</td>\n",
              "      <td>1.234664</td>\n",
              "    </tr>\n",
              "  </tbody>\n",
              "</table>\n",
              "</div>"
            ],
            "text/plain": [
              "                   A    B         C         D\n",
              "2021-01-01 -0.163922  1.0 -0.546585  0.436791\n",
              "2021-01-02  1.379752  1.0  0.058288  0.513311\n",
              "2021-01-03 -0.952541  NaN -0.523059 -0.205490\n",
              "2021-01-04  1.153511  NaN -1.919304  1.234664"
            ]
          },
          "metadata": {},
          "execution_count": 136
        }
      ]
    }
  ]
}