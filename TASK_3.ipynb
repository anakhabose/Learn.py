{
  "nbformat": 4,
  "nbformat_minor": 0,
  "metadata": {
    "colab": {
      "name": "TASK 3.ipynb",
      "provenance": [],
      "include_colab_link": true
    },
    "kernelspec": {
      "name": "python3",
      "display_name": "Python 3"
    },
    "language_info": {
      "name": "python"
    }
  },
  "cells": [
    {
      "cell_type": "markdown",
      "metadata": {
        "id": "view-in-github",
        "colab_type": "text"
      },
      "source": [
        "<a href=\"https://colab.research.google.com/github/anakhabose/Learn.py/blob/main/TASK_3.ipynb\" target=\"_parent\"><img src=\"https://colab.research.google.com/assets/colab-badge.svg\" alt=\"Open In Colab\"/></a>"
      ]
    },
    {
      "cell_type": "markdown",
      "metadata": {
        "id": "z20IIB0eUQMN"
      },
      "source": [
        "1 - Write a program which takes a number as input from the user and check whether the number is odd or even.If odd print the number is odd if not print it is even."
      ]
    },
    {
      "cell_type": "code",
      "metadata": {
        "id": "dVgGJ-wTVRit",
        "outputId": "9c76f4e3-c34e-4aaa-b104-417b767dbc78",
        "colab": {
          "base_uri": "https://localhost:8080/"
        }
      },
      "source": [
        "a = int(input())\n",
        "if a%2==0:\n",
        "    print(\"The number is even\")\n",
        "else:\n",
        "    print(\"The number is odd\")"
      ],
      "execution_count": 5,
      "outputs": [
        {
          "output_type": "stream",
          "text": [
            "7\n",
            "The number is odd\n"
          ],
          "name": "stdout"
        }
      ]
    },
    {
      "cell_type": "markdown",
      "metadata": {
        "id": "7778XD8PVblj"
      },
      "source": [
        "2 -Write a program to find the largest among three numbers and print the largest number."
      ]
    },
    {
      "cell_type": "code",
      "metadata": {
        "id": "m0tUOkOFWR-d",
        "outputId": "816bb080-788b-4f56-e890-9dba74862a80",
        "colab": {
          "base_uri": "https://localhost:8080/"
        }
      },
      "source": [
        "a = int(input())\n",
        "b = int(input())\n",
        "c = int(input())\n",
        "if a>b and a>c:\n",
        "    print(\"The largest number is\" + \" \" + str(a))\n",
        "elif b>a and b>c:\n",
        "    print(\"The largest number is\" + \" \" + str(b))\n",
        "else:\n",
        "    print(\"The largest number is\" + \" \" + str(c))"
      ],
      "execution_count": 9,
      "outputs": [
        {
          "output_type": "stream",
          "text": [
            "6\n",
            "7\n",
            "8\n",
            "The largest number is 8\n"
          ],
          "name": "stdout"
        }
      ]
    },
    {
      "cell_type": "markdown",
      "metadata": {
        "id": "Jg2Ns4OQWaJy"
      },
      "source": [
        "3 -Write a function to prompt for a score between 0.0 and 1.0.\n",
        "\n",
        "    If the score is out of range, print an error.\n",
        "    If the score is between 0.0 and 1.0, print a grade using the following table:\n",
        "    Score Grade\n",
        "             Score\tGrade\n",
        "            >= 0.9\tA\n",
        "            >= 0.8\tB\n",
        "            >= 0.7\tC\n",
        "            >= 0.6\tD\n",
        "             < 0.6\tF\n",
        "If the user enters a value out of range, print a suitable error message and exit. For the test, enter a score of 0.85."
      ]
    },
    {
      "cell_type": "code",
      "metadata": {
        "id": "6DLbGe6XXZPx",
        "outputId": "8d7ed546-7dbe-4d1c-b9ae-724dc0221bb6",
        "colab": {
          "base_uri": "https://localhost:8080/"
        }
      },
      "source": [
        " \n",
        " \n",
        "score = input('Enter the mark: ')\n",
        "s = float(score)\n",
        "if s>=0.9 and s<1.0:\n",
        "    print('A')\n",
        "elif s>=0.8 and s<0.9:\n",
        "    print('B')\n",
        "elif s>=0.7 and s<0.8:\n",
        "    print('C')\n",
        "elif s>=0.6 and s<0.7:\n",
        "    print('D')\n",
        "elif s<0.6 and s>0.0:\n",
        "    print('F')\n",
        "else:\n",
        "    print('Out of range')"
      ],
      "execution_count": 12,
      "outputs": [
        {
          "output_type": "stream",
          "text": [
            "Enter the mark: 0.85\n",
            "B\n"
          ],
          "name": "stdout"
        }
      ]
    },
    {
      "cell_type": "markdown",
      "metadata": {
        "id": "-o0scDq7WkVT"
      },
      "source": [
        ""
      ]
    }
  ]
}