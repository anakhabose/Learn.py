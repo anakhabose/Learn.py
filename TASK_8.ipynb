{
  "nbformat": 4,
  "nbformat_minor": 0,
  "metadata": {
    "colab": {
      "name": "TASK 8.ipynb",
      "provenance": [],
      "include_colab_link": true
    },
    "kernelspec": {
      "name": "python3",
      "display_name": "Python 3"
    },
    "language_info": {
      "name": "python"
    }
  },
  "cells": [
    {
      "cell_type": "markdown",
      "metadata": {
        "id": "view-in-github",
        "colab_type": "text"
      },
      "source": [
        "<a href=\"https://colab.research.google.com/github/anakhabose/Learn.py/blob/main/TASK_8.ipynb\" target=\"_parent\"><img src=\"https://colab.research.google.com/assets/colab-badge.svg\" alt=\"Open In Colab\"/></a>"
      ]
    },
    {
      "cell_type": "markdown",
      "metadata": {
        "id": "slsGswYbJSo7"
      },
      "source": [
        "1. Generate a 3 x 3 matrix using random module."
      ]
    },
    {
      "cell_type": "code",
      "metadata": {
        "id": "GGRQSYyNJW9t",
        "outputId": "ffb1722b-b91d-497b-8afe-81cafdf7f75d",
        "colab": {
          "base_uri": "https://localhost:8080/"
        }
      },
      "source": [
        "#please provide your answer below this line.\n",
        "import numpy as np\n",
        "a = np.random.rand(3,3)\n",
        "print(a)"
      ],
      "execution_count": 1,
      "outputs": [
        {
          "output_type": "stream",
          "text": [
            "[[0.5805743  0.54180854 0.23882762]\n",
            " [0.41857793 0.62007167 0.37954026]\n",
            " [0.92093798 0.1285588  0.47463393]]\n"
          ],
          "name": "stdout"
        }
      ]
    },
    {
      "cell_type": "markdown",
      "metadata": {
        "id": "4OB9KFX6JfYA"
      },
      "source": [
        "2. Generate two 4 x 4 matrix using numpy and \n",
        "\n",
        " a) Reshape it to 2 x 8matrix and vertically stack it.\n",
        "\n",
        " b) Reshape it to 2 x 8 matrix and horizontally stack it."
      ]
    },
    {
      "cell_type": "code",
      "metadata": {
        "id": "VoIqYeNWJ4H_",
        "outputId": "629ade85-e57f-4f41-954e-f330583bffad",
        "colab": {
          "base_uri": "https://localhost:8080/"
        }
      },
      "source": [
        "#please provide your answer below this line.\n",
        "import numpy as np\n",
        "a= np.random.rand(4,4)\n",
        "print('i)',a)\n",
        "b = np.random.rand(4,4)\n",
        "print(b)\n",
        "a = a.reshape(2,8)\n",
        "b = b.reshape(2,8)\n",
        "print('ii)',a)\n",
        "print(b)\n",
        "print('iii)',np.vstack((a,b)))\n",
        "print('iv)',np.hstack((a,b)))"
      ],
      "execution_count": 28,
      "outputs": [
        {
          "output_type": "stream",
          "text": [
            "i) [[0.02628413 0.93366486 0.6397602  0.8599104 ]\n",
            " [0.51689807 0.13365716 0.60478884 0.05285271]\n",
            " [0.95732667 0.01772421 0.98425818 0.33115396]\n",
            " [0.67927717 0.60252078 0.49004483 0.95464018]]\n",
            "[[0.7661929  0.68216255 0.17677254 0.65904663]\n",
            " [0.34352966 0.71086441 0.66273901 0.83770375]\n",
            " [0.79900057 0.28536057 0.07595509 0.18278372]\n",
            " [0.4070026  0.47578737 0.56082126 0.25612247]]\n",
            "ii) [[0.02628413 0.93366486 0.6397602  0.8599104  0.51689807 0.13365716\n",
            "  0.60478884 0.05285271]\n",
            " [0.95732667 0.01772421 0.98425818 0.33115396 0.67927717 0.60252078\n",
            "  0.49004483 0.95464018]]\n",
            "[[0.7661929  0.68216255 0.17677254 0.65904663 0.34352966 0.71086441\n",
            "  0.66273901 0.83770375]\n",
            " [0.79900057 0.28536057 0.07595509 0.18278372 0.4070026  0.47578737\n",
            "  0.56082126 0.25612247]]\n",
            "iii) [[0.02628413 0.93366486 0.6397602  0.8599104  0.51689807 0.13365716\n",
            "  0.60478884 0.05285271]\n",
            " [0.95732667 0.01772421 0.98425818 0.33115396 0.67927717 0.60252078\n",
            "  0.49004483 0.95464018]\n",
            " [0.7661929  0.68216255 0.17677254 0.65904663 0.34352966 0.71086441\n",
            "  0.66273901 0.83770375]\n",
            " [0.79900057 0.28536057 0.07595509 0.18278372 0.4070026  0.47578737\n",
            "  0.56082126 0.25612247]]\n",
            "iv) [[0.02628413 0.93366486 0.6397602  0.8599104  0.51689807 0.13365716\n",
            "  0.60478884 0.05285271 0.7661929  0.68216255 0.17677254 0.65904663\n",
            "  0.34352966 0.71086441 0.66273901 0.83770375]\n",
            " [0.95732667 0.01772421 0.98425818 0.33115396 0.67927717 0.60252078\n",
            "  0.49004483 0.95464018 0.79900057 0.28536057 0.07595509 0.18278372\n",
            "  0.4070026  0.47578737 0.56082126 0.25612247]]\n"
          ],
          "name": "stdout"
        }
      ]
    }
  ]
}